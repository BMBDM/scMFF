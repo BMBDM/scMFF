{
 "cells": [
  {
   "cell_type": "code",
   "execution_count": 1,
   "id": "072a30ea",
   "metadata": {},
   "outputs": [],
   "source": [
    "import pandas as pd\n",
    "import numpy as np\n",
    "\n",
    "files = {\n",
    "    'expr.csv': lambda f: pd.read_csv(f, index_col=0, header=0).shape,\n",
    "    'expr_2000.csv': lambda f: pd.read_csv(f, index_col=0, header=0).shape,\n",
    "    'scPSD_embedding.txt.gz': lambda f: np.loadtxt(f).shape,\n",
    "    'PCA_embedding.txt.gz': lambda f: np.loadtxt(f).shape,\n",
    "    'scGNN_embedding.csv': lambda f: pd.read_csv(f).shape,\n",
    "\n",
    "    'Fusion_sum-expr-scpsd-scgnn-pca.txt.gz': lambda f: np.loadtxt(f).shape,\n",
    "    'Fusion_hadamard-expr-scpsd-scgnn-pca.txt.gz': lambda f: np.loadtxt(f).shape,\n",
    "    'Fusion_attention-expr-scpsd-scgnn-pca.txt.gz': lambda f: np.loadtxt(f).shape,\n",
    "    'Fusion_moe-expr-scpsd-scgnn-pca.txt.gz': lambda f: np.loadtxt(f).shape,\n",
    "    'Fusion_residual-expr-scpsd-scgnn-pca.txt.gz': lambda f: np.loadtxt(f).shape,\n",
    "    'Fusion_transformer-expr-scpsd-scgnn-pca.txt.gz': lambda f: np.loadtxt(f).shape,\n",
    "}"
   ]
  },
  {
   "cell_type": "code",
   "execution_count": 2,
   "id": "60a6aa75",
   "metadata": {},
   "outputs": [
    {
     "name": "stdout",
     "output_type": "stream",
     "text": [
      "File Name                                                              Shape\n",
      "---------------------------------------------------------------------------\n",
      "expr.csv                                                       (33694, 2998)\n",
      "expr_2000.csv                                                   (2000, 2998)\n",
      "scPSD_embedding.txt.gz                                          (2998, 2000)\n",
      "PCA_embedding.txt.gz                                             (2998, 266)\n",
      "scGNN_embedding.csv                                              (2998, 129)\n",
      "Fusion_sum-expr-scpsd-scgnn-pca.txt.gz                          (2998, 2000)\n",
      "Fusion_hadamard-expr-scpsd-scgnn-pca.txt.gz                     (2998, 2000)\n",
      "Fusion_attention-expr-scpsd-scgnn-pca.txt.gz                    (2998, 2000)\n",
      "Fusion_moe-expr-scpsd-scgnn-pca.txt.gz                           (2998, 128)\n",
      "Fusion_residual-expr-scpsd-scgnn-pca.txt.gz                      (2998, 128)\n",
      "Fusion_transformer-expr-scpsd-scgnn-pca.txt.gz                   (2998, 128)\n"
     ]
    }
   ],
   "source": [
    "print(f\"{'File Name':<60} {'Shape':>15}\")\n",
    "print(\"-\" * 75)\n",
    "\n",
    "for fname, loader in files.items():\n",
    "    try:\n",
    "        shape = loader(fname)\n",
    "        print(f\"{fname:<60} {str(shape):>15}\")\n",
    "    except Exception as e:\n",
    "        print(f\"{fname:<60} {'Error'}\")"
   ]
  },
  {
   "cell_type": "code",
   "execution_count": 3,
   "id": "2ec6f027",
   "metadata": {},
   "outputs": [
    {
     "data": {
      "text/html": [
       "<div>\n",
       "<style scoped>\n",
       "    .dataframe tbody tr th:only-of-type {\n",
       "        vertical-align: middle;\n",
       "    }\n",
       "\n",
       "    .dataframe tbody tr th {\n",
       "        vertical-align: top;\n",
       "    }\n",
       "\n",
       "    .dataframe thead th {\n",
       "        text-align: right;\n",
       "    }\n",
       "</style>\n",
       "<table border=\"1\" class=\"dataframe\">\n",
       "  <thead>\n",
       "    <tr style=\"text-align: right;\">\n",
       "      <th></th>\n",
       "      <th>0</th>\n",
       "    </tr>\n",
       "  </thead>\n",
       "  <tbody>\n",
       "    <tr>\n",
       "      <th>0</th>\n",
       "      <td>Macrophage</td>\n",
       "    </tr>\n",
       "    <tr>\n",
       "      <th>1</th>\n",
       "      <td>T cell</td>\n",
       "    </tr>\n",
       "    <tr>\n",
       "      <th>2</th>\n",
       "      <td>Macrophage</td>\n",
       "    </tr>\n",
       "    <tr>\n",
       "      <th>3</th>\n",
       "      <td>Epithelial cell</td>\n",
       "    </tr>\n",
       "    <tr>\n",
       "      <th>4</th>\n",
       "      <td>Mast cell</td>\n",
       "    </tr>\n",
       "    <tr>\n",
       "      <th>...</th>\n",
       "      <td>...</td>\n",
       "    </tr>\n",
       "    <tr>\n",
       "      <th>2993</th>\n",
       "      <td>Epithelial cell</td>\n",
       "    </tr>\n",
       "    <tr>\n",
       "      <th>2994</th>\n",
       "      <td>T cell</td>\n",
       "    </tr>\n",
       "    <tr>\n",
       "      <th>2995</th>\n",
       "      <td>T cell</td>\n",
       "    </tr>\n",
       "    <tr>\n",
       "      <th>2996</th>\n",
       "      <td>Macrophage</td>\n",
       "    </tr>\n",
       "    <tr>\n",
       "      <th>2997</th>\n",
       "      <td>Mast cell</td>\n",
       "    </tr>\n",
       "  </tbody>\n",
       "</table>\n",
       "<p>2998 rows × 1 columns</p>\n",
       "</div>"
      ],
      "text/plain": [
       "                    0\n",
       "0          Macrophage\n",
       "1              T cell\n",
       "2          Macrophage\n",
       "3     Epithelial cell\n",
       "4           Mast cell\n",
       "...               ...\n",
       "2993  Epithelial cell\n",
       "2994           T cell\n",
       "2995           T cell\n",
       "2996       Macrophage\n",
       "2997        Mast cell\n",
       "\n",
       "[2998 rows x 1 columns]"
      ]
     },
     "execution_count": 3,
     "metadata": {},
     "output_type": "execute_result"
    }
   ],
   "source": [
    "pd.read_csv('cluster.csv', header=None)"
   ]
  },
  {
   "cell_type": "code",
   "execution_count": 4,
   "id": "2d1a4614",
   "metadata": {},
   "outputs": [
    {
     "data": {
      "text/plain": [
       "0\n",
       "T cell              888\n",
       "Epithelial cell     790\n",
       "Macrophage          666\n",
       "B cell              276\n",
       "Fibroblast          185\n",
       "Endothelial cell    112\n",
       "Mast cell            81\n",
       "Name: count, dtype: int64"
      ]
     },
     "execution_count": 4,
     "metadata": {},
     "output_type": "execute_result"
    }
   ],
   "source": [
    "pd.read_csv('cluster.csv', header=None)[0].value_counts()"
   ]
  },
  {
   "cell_type": "markdown",
   "id": "6068eece",
   "metadata": {},
   "source": [
    "### Feature Embedding Files and Their Dimensions\n",
    "\n",
    "| Feature ID | File Name                                                               | Dimension      |\n",
    "|------------|-------------------------------------------------------------------------|----------------|\n",
    "| Feature0   | expr.csv                                                                | (33694, 2998)  |\n",
    "| Feature1   | expr_2000.csv                                                           | (2000, 2998)   |\n",
    "| Feature2   | scPSD_embedding.txt.gz                                                  | (2998, 2000)   |\n",
    "| Feature3   | PCA_embedding.txt.gz                                                    | (2998, 266)    |\n",
    "| Feature4   | scGNN_embedding.csv                                                     | (2998, 129)    |\n",
    "| Feature5   | Fusion_sum-expr-scpsd-scgnn-pca.txt.gz                                  | (2998, 2000)   |\n",
    "| Feature6   | Fusion_hadamard-expr-scpsd-scgnn-pca.txt.gz                             | (2998, 2000)   |\n",
    "| Feature7   | Fusion_attention-expr-scpsd-scgnn-pca.txt.gz                            | (2998, 2000)   |\n",
    "| Feature8   | Fusion_moe-expr-scpsd-scgnn-pca.txt.gz                                  | (2998, 128)    |\n",
    "| Feature9   | Fusion_residual-expr-scpsd-scgnn-pca.txt.gz                             | (2998, 128)    |\n",
    "| Feature10  | Fusion_transformer-expr-scpsd-scgnn-pca.txt.gz                          | (2998, 128)    |\n",
    "\n"
   ]
  }
 ],
 "metadata": {
  "kernelspec": {
   "display_name": "SunNan_env",
   "language": "python",
   "name": "python3"
  },
  "language_info": {
   "codemirror_mode": {
    "name": "ipython",
    "version": 3
   },
   "file_extension": ".py",
   "mimetype": "text/x-python",
   "name": "python",
   "nbconvert_exporter": "python",
   "pygments_lexer": "ipython3",
   "version": "3.10.11"
  }
 },
 "nbformat": 4,
 "nbformat_minor": 5
}
